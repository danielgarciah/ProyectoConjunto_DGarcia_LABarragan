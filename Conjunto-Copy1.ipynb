{
 "cells": [
  {
   "cell_type": "markdown",
   "metadata": {},
   "source": [
    "# Expectativas del curso Daniel García"
   ]
  },
  {
   "cell_type": "markdown",
   "metadata": {},
   "source": [
    "A lo largo del curso espero mejorar mucho mis habilidades para programar en Python, de igual manera espero aprender a programar de una manera vectorizada. También espero aprender "
   ]
  },
  {
   "cell_type": "markdown",
   "metadata": {},
   "source": [
    "---"
   ]
  },
  {
   "cell_type": "markdown",
   "metadata": {},
   "source": [
    "# <font color=\"brown\"> Expectativas del curso Lizbeth Alejandra Barragán</font>"
   ]
  },
  {
   "cell_type": "markdown",
   "metadata": {},
   "source": [
    "En el presente curso de **simulación de procesos financieros** mi expectativa es aprender un poco sobre el uso de simulaciones en diferentes escenarios posibles para tomar las decisiones correctas en el ámbito financiero.\n",
    "Asimismo me gustaría aprender acerca de los fundamentos de la simulación, su aplicación al área de negocios para desarrollar posibles escenarios futuros que sirvan en modelar las trayectorias de los negocios, así como espero aprender sobre ciertos modelos de probabilidad a partir del comportamiento que presentan las variables financieras y económicas."
   ]
  },
  {
   "cell_type": "markdown",
   "metadata": {},
   "source": [
    "<img style=\"center\" src=\"https://www.simularsoft.com.ar/book_archivos/image1013.jpg\" width=\"250px\" height=\"200px\" alt=\"atom\" />"
   ]
  },
  {
   "cell_type": "markdown",
   "metadata": {},
   "source": [
    "# <font color=\"coral\">**Resumen de artículo II **</font>"
   ]
  },
  {
   "cell_type": "markdown",
   "metadata": {},
   "source": [
    "## <font color=\"gray\">**Python has brought computer programming to a vast new audience **</font>"
   ]
  },
  {
   "cell_type": "markdown",
   "metadata": {},
   "source": [
    "In December 1989 Guido van Rossum, set himself a Christmas project. His principles:\n",
    "  - **1.** It should be easy to read.\n",
    "  - **2.** It should let users create their own packages of special-purpose coding modules.\n",
    "  - **3.** He wanted a “short, unique and slightly mysterious” name. \n",
    "\n",
    "\n",
    "+ The language’s popularity has grown not merely among professional developers—nearly 40% of whom use it, with a further 25% wishing to do so, according to Stack Overflow, a programming forum.\n",
    "+ Codecademy, a website that has taught 45m novices how to use various languages, says that by far the biggest increase in demand is from those wishing to learn Python.\n",
    "\n",
    "**Python** is not perfect. Other languages have more processing efficiency and specialised capabilities. C and C++ are *“lower-level”* options which give the user more control over what is happening within a computer’s processor. But Python’s killer features—simple syntax that makes its code easy to learn and share, and its huge array of third-party packages—make it a good general-purpose language. Its versatility is shown by its range of users and uses. \n",
    "\n",
    "The Central Intelligence Agency has employed it for hacking, <font color=\"red\">**Pixar**</font> for producing films, <font color=\"blue\">**Google**</font> for crawling web pages and <font color=\"green\">**Spotify**</font> for recommending songs.\n",
    "Some of the most alluring packages that Pythonistas can find in the Cheese Shop harness <font color=\"orange\">**Artificial Intelligence (AI)**</font>. Users can create neural networks, which mimic the connections in a brain, to pick out patterns in large quantities of data.\n",
    "For professions that have long relied on trawling through spreadsheets, Python is especially valuable. *Citigroup*, an *American bank*, has introduced a crash course in **Python** for its trainee analysts. A jobs website, eFinancialCareers, reports a near-fourfold increase in listings mentioning **Python** between the first quarters of 2015 and 2018.\n",
    "**Python** was already the most popular introductory language at American universities in 2014, but the teaching of it is generally limited to those studying science, technology, engineering and mathematics."
   ]
  },
  {
   "cell_type": "markdown",
   "metadata": {},
   "source": [
    "|Número|Ventajas de Python|\n",
    "|----|----|\n",
    "|1|Eficiente|\n",
    "|2|Hecho para capacidades especializadas|\n",
    "|3|Simple sintaxis|\n",
    "|4|Fácil de aprender|\n",
    "|5|Código fácil de leer y compartir|"
   ]
  },
  {
   "cell_type": "markdown",
   "metadata": {},
   "source": [
    "<img style=\"center\" src=\"https://upload.wikimedia.org/wikipedia/commons/thumb/c/c3/Python-logo-notext.svg/1200px-Python-logo-notext.svg.png\" width=\"250px\" height=\"200px\" alt=\"atom\" />"
   ]
  },
  {
   "cell_type": "code",
   "execution_count": null,
   "metadata": {},
   "outputs": [],
   "source": []
  }
 ],
 "metadata": {
  "kernelspec": {
   "display_name": "Python 3",
   "language": "python",
   "name": "python3"
  },
  "language_info": {
   "codemirror_mode": {
    "name": "ipython",
    "version": 3
   },
   "file_extension": ".py",
   "mimetype": "text/x-python",
   "name": "python",
   "nbconvert_exporter": "python",
   "pygments_lexer": "ipython3",
   "version": "3.7.4"
  }
 },
 "nbformat": 4,
 "nbformat_minor": 2
}
