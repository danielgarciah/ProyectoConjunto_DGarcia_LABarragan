{
 "cells": [
  {
   "cell_type": "markdown",
   "metadata": {},
   "source": [
    "# Expectativas del curso Daniel García"
   ]
  },
  {
   "cell_type": "markdown",
   "metadata": {},
   "source": [
    "A lo largo del curso espero mejorar mucho mis habilidades para programar en Python, de igual manera espero aprender a programar de una manera vectorizada. También espero aprender mucho acerca de el comportamiento de los procesos financieros que simularemos a lo largo del semestr. Me gustaría poder ver muchos casos prácticos para poner en práctica lo aprendido en clase."
   ]
  },
  {
   "cell_type": "markdown",
   "metadata": {},
   "source": [
    "# Python se está convirtiendo en en lenguaje de código más popular del mundo.\n",
    "<img src=\"https://www.python.org/static/img/python-logo@2x.png\">\n",
    "Python se creó en 1989 y tres décadas después ha sobrepasado a muchos de sus rivales siendo uno de los <font color=red>lenguajes de codigo más usados en el mundo.</font> Incluso en el último año, la palabra python ha sido **más** buscada en google que Kim Kardashian.\n",
    "Razones por las cuales se ha vuelto tan popular:\n",
    "* Simplicidad\n",
    "* Flexibilidad\n",
    "* Sintaxis directa\n",
    "* Usos de sangrías hacen fácil de entender.\n",
    "* Más de 145,000 paquetes de software personalizados.\n",
    "\n",
    "Algunas grandes empresas han usado python gracias a la gran **versatilidad** que tiene, debido a que se puede emplear para hacer muchas cosas, desde desarrollo de videojuegos hasta astronomía.\n",
    "\n",
    "Se espera que python se convierta en el lenguaje **más usado, dejando obsoleta a sus competencias.**"
   ]
  },
  {
   "cell_type": "markdown",
   "metadata": {},
   "source": [
    "|Ranking de los lenguajes de codigo mas usados|\n",
    "|---------------------------------------------|\n",
    "|Java                                         |\n",
    "|C                                            |\n",
    "|C++|\n",
    "|Python|\n",
    "|C#|\n",
    "|Visual Basic.NET|\n",
    "|JavaScript|\n",
    "|PHP|\n",
    "|Ruby|\n",
    "|R|\n",
    "|Perl|\n",
    "|Objective-C|\n",
    "|Ada|\n",
    "|Fortran|\n",
    "|Lisp|"
   ]
  },
  {
   "cell_type": "markdown",
   "metadata": {},
   "source": [
    "---"
   ]
  },
  {
   "cell_type": "code",
   "execution_count": null,
   "metadata": {},
   "outputs": [],
   "source": []
  }
 ],
 "metadata": {
  "kernelspec": {
   "display_name": "Python 3",
   "language": "python",
   "name": "python3"
  },
  "language_info": {
   "codemirror_mode": {
    "name": "ipython",
    "version": 3
   },
   "file_extension": ".py",
   "mimetype": "text/x-python",
   "name": "python",
   "nbconvert_exporter": "python",
   "pygments_lexer": "ipython3",
   "version": "3.6.5"
  }
 },
 "nbformat": 4,
 "nbformat_minor": 2
}
