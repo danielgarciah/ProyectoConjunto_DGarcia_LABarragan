{
 "cells": [
  {
   "cell_type": "markdown",
   "metadata": {},
   "source": [
    "# Expectativas del curso Daniel García"
   ]
  },
  {
   "cell_type": "markdown",
   "metadata": {},
   "source": [
    "A lo largo del curso espero mejorar mucho mis habilidades para programar en Python, de igual manera espero aprender a programar de una manera vectorizada. También espero aprender mucho acerca de el comportamiento de los procesos financieros que simularemos a lo largo del semestr. Me gustaría poder ver muchos casos prácticos para poner en práctica lo aprendido en clase."
   ]
  },
  {
   "cell_type": "markdown",
   "metadata": {},
   "source": [
    "# Python se está convirtiendo en en lenguaje de código más popular del mundo.\n",
    "<img src=\"https://www.python.org/static/img/python-logo@2x.png\">\n",
    "Python se creó en 1989 y tres décadas después ha sobrepasado a muchos de sus rivales siendo uno de los <font color=red>lenguajes de codigo más usados en el mundo.</font> Incluso en el último año, la palabra python ha sido **más** buscada en google que Kim Kardashian.\n",
    "Razones por las cuales se ha vuelto tan popular:\n",
    "* Simplicidad\n",
    "* Flexibilidad\n",
    "* Sintaxis directa\n",
    "* Usos de sangrías hacen fácil de entender.\n",
    "* Más de 145,000 paquetes de software personalizados.\n",
    "\n",
    "Algunas grandes empresas han usado python gracias a la gran **versatilidad** que tiene, debido a que se puede emplear para hacer muchas cosas, desde desarrollo de videojuegos hasta astronomía.\n",
    "\n",
    "Se espera que python se convierta en el lenguaje **más usado, dejando obsoleta a sus competencias.**"
   ]
  },
  {
   "cell_type": "markdown",
   "metadata": {},
   "source": [
    "|Ranking de los lenguajes de codigo mas usados|\n",
    "|---------------------------------------------|\n",
    "|Java                                         |\n",
    "|C                                            |\n",
    "|C++|\n",
    "|Python|\n",
    "|C#|\n",
    "|Visual Basic.NET|\n",
    "|JavaScript|\n",
    "|PHP|\n",
    "|Ruby|\n",
    "|R|\n",
    "|Perl|\n",
    "|Objective-C|\n",
    "|Ada|\n",
    "|Fortran|\n",
    "|Lisp|"
   ]
  },
  {
   "cell_type": "markdown",
   "metadata": {},
   "source": [
    "---"
   ]
  },
  {
   "cell_type": "markdown",
   "metadata": {},
   "source": [
    "# <font color=\"brown\"> Expectativas del curso Lizbeth Alejandra Barragán</font>"
   ]
  },
  {
   "cell_type": "markdown",
   "metadata": {},
   "source": [
    "En el presente curso de **simulación de procesos financieros** mi expectativa es aprender un poco sobre el uso de simulaciones en diferentes escenarios posibles para tomar las decisiones correctas en el ámbito financiero.\n",
    "Asimismo me gustaría aprender acerca de los fundamentos de la simulación, su aplicación al área de negocios para desarrollar posibles escenarios futuros que sirvan en modelar las trayectorias de los negocios, así como espero aprender sobre ciertos modelos de probabilidad a partir del comportamiento que presentan las variables financieras y económicas."
   ]
  },
  {
   "cell_type": "markdown",
   "metadata": {},
   "source": [
    "<img style=\"center\" src=\"https://www.simularsoft.com.ar/book_archivos/image1013.jpg\" width=\"250px\" height=\"200px\" alt=\"atom\" />"
   ]
  },
  {
   "cell_type": "markdown",
   "metadata": {},
   "source": [
    "# <font color=\"coral\">**Resumen de artículo II **</font>"
   ]
  },
  {
   "cell_type": "markdown",
   "metadata": {},
   "source": [
    "## <font color=\"gray\">**Python has brought computer programming to a vast new audience **</font>"
   ]
  },
  {
   "cell_type": "markdown",
   "metadata": {},
   "source": [
    "In December 1989 Guido van Rossum, set himself a Christmas project. His principles:\n",
    "  - **1.** It should be easy to read.\n",
    "  - **2.** It should let users create their own packages of special-purpose coding modules.\n",
    "  - **3.** He wanted a “short, unique and slightly mysterious” name. \n",
    "\n",
    "\n",
    "+ The language’s popularity has grown not merely among professional developers—nearly 40% of whom use it, with a further 25% wishing to do so, according to Stack Overflow, a programming forum.\n",
    "+ Codecademy, a website that has taught 45m novices how to use various languages, says that by far the biggest increase in demand is from those wishing to learn Python.\n",
    "\n",
    "**Python** is not perfect. Other languages have more processing efficiency and specialised capabilities. C and C++ are *“lower-level”* options which give the user more control over what is happening within a computer’s processor. But Python’s killer features—simple syntax that makes its code easy to learn and share, and its huge array of third-party packages—make it a good general-purpose language. Its versatility is shown by its range of users and uses. \n",
    "\n",
    "The Central Intelligence Agency has employed it for hacking, <font color=\"red\">**Pixar**</font> for producing films, <font color=\"blue\">**Google**</font> for crawling web pages and <font color=\"green\">**Spotify**</font> for recommending songs.\n",
    "Some of the most alluring packages that Pythonistas can find in the Cheese Shop harness <font color=\"orange\">**Artificial Intelligence (AI)**</font>. Users can create neural networks, which mimic the connections in a brain, to pick out patterns in large quantities of data.\n",
    "For professions that have long relied on trawling through spreadsheets, Python is especially valuable. *Citigroup*, an *American bank*, has introduced a crash course in **Python** for its trainee analysts. A jobs website, eFinancialCareers, reports a near-fourfold increase in listings mentioning **Python** between the first quarters of 2015 and 2018.\n",
    "**Python** was already the most popular introductory language at American universities in 2014, but the teaching of it is generally limited to those studying science, technology, engineering and mathematics."
   ]
  },
  {
   "cell_type": "markdown",
   "metadata": {},
   "source": [
    "|Número|Ventajas de Python|\n",
    "|----|----|\n",
    "|1|Eficiente|\n",
    "|2|Hecho para capacidades especializadas|\n",
    "|3|Simple sintaxis|\n",
    "|4|Fácil de aprender|\n",
    "|5|Código fácil de leer y compartir|"
   ]
  },
  {
   "cell_type": "markdown",
   "metadata": {},
   "source": [
    "<img style=\"center\" src=\"https://upload.wikimedia.org/wikipedia/commons/thumb/c/c3/Python-logo-notext.svg/1200px-Python-logo-notext.svg.png\" width=\"250px\" height=\"200px\" alt=\"atom\" />"
   ]
  },
  {
   "cell_type": "markdown",
   "metadata": {},
   "source": [
    "## Daniel García\n",
    "1. La fórmula el rectángulo se obtiene al interpolar a $f(x)$ por medio del polinomio constante $P_0(x) = f(\\frac{a+b}{2})$.\n",
    "$$\\int_{a}^{b}f(x) dx \\approx (b-a)f(\\frac{a+b}{2}) = R(f).$$\n",
    "2. La fórmula del trapecio se obtiene al interpolar a $f$ por medio de un polinomio lineal $p_1(x) = \\alpha x + \\beta$ que satisfaga $f(a) = p_1(a).$ y $f(b) = p_1(b).$ Determinar el polinomio lineal es equivalente a resolver un sistema de ecuaciones lineales para $\\alpha$ y $\\beta$ cuya solución es\n",
    "$$\\alpha = \\frac{f(b)-f(a)}{b-a}\\quad\\beta = \\frac{f(b)a-f(a)b}{b-a}$$\n",
    "Al integrar $p_1(x)$ en el intervalo $[a,b]$ se obtiene la regla del trapecio con $h = b-a$\n",
    "$$\\int_{a}^{b}f(x)dx \\approx\\int_{a}^{b} p_1(x) dx = \\frac{h}{2}(f(a) + f(b)) = T(f).$$\n",
    "El error está dado por \n",
    "$$\\int_{a}^{b}f(x)dx-T(f)=-\\frac{h^3}{12}(f''(\\eta)),\\quad  a<\\eta<b.$$\n",
    "3. Por último al integrar el polinomio cuadrático que interpola a $f$ en $x=a,x=\\frac{a+b}{2}$,y $x=b$ se obtiene la regla de Simpson con $h=\\frac{b-a}{2}$\n",
    "$$\\int_{a}^{b}f(x)dx\\approx\\int_{a}^{b}p_2(x)dx = \\frac{h}{3}(f(a)+4f(a+h)+f(b))=S(f).$$\n",
    "El error que se comete al usar Simpson es\n",
    "$$\\int_{a}^{b}f(x)dx-S(f)=\\frac{h^5}{90}(f^{(4)}(\\eta)),\\quad a<\\eta<b.$$"
   ]
  },
  {
   "cell_type": "markdown",
   "metadata": {},
   "source": []
  },
  {
   "cell_type": "markdown",
   "metadata": {},
   "source": [
    "## Serie de Fibonacci"
   ]
  },
  {
   "cell_type": "code",
   "execution_count": 2,
   "metadata": {},
   "outputs": [
    {
     "data": {
      "text/plain": [
       "[0,\n",
       " 1,\n",
       " 1,\n",
       " 2,\n",
       " 3,\n",
       " 5,\n",
       " 8,\n",
       " 13,\n",
       " 21,\n",
       " 34,\n",
       " 55,\n",
       " 89,\n",
       " 144,\n",
       " 233,\n",
       " 377,\n",
       " 610,\n",
       " 987,\n",
       " 1597,\n",
       " 2584,\n",
       " 4181,\n",
       " 6765,\n",
       " 10946,\n",
       " 17711,\n",
       " 28657,\n",
       " 46368,\n",
       " 75025,\n",
       " 121393,\n",
       " 196418,\n",
       " 317811,\n",
       " 514229,\n",
       " 832040,\n",
       " 1346269,\n",
       " 2178309,\n",
       " 3524578,\n",
       " 5702887,\n",
       " 9227465,\n",
       " 14930352,\n",
       " 24157817,\n",
       " 39088169,\n",
       " 63245986,\n",
       " 102334155,\n",
       " 165580141,\n",
       " 267914296,\n",
       " 433494437,\n",
       " 701408733,\n",
       " 1134903170,\n",
       " 1836311903,\n",
       " 2971215073,\n",
       " 4807526976,\n",
       " 7778742049,\n",
       " 12586269025,\n",
       " 20365011074,\n",
       " 32951280099,\n",
       " 53316291173,\n",
       " 86267571272,\n",
       " 139583862445,\n",
       " 225851433717,\n",
       " 365435296162,\n",
       " 591286729879,\n",
       " 956722026041,\n",
       " 1548008755920,\n",
       " 2504730781961,\n",
       " 4052739537881,\n",
       " 6557470319842,\n",
       " 10610209857723,\n",
       " 17167680177565,\n",
       " 27777890035288,\n",
       " 44945570212853,\n",
       " 72723460248141,\n",
       " 117669030460994,\n",
       " 190392490709135,\n",
       " 308061521170129,\n",
       " 498454011879264,\n",
       " 806515533049393,\n",
       " 1304969544928657,\n",
       " 2111485077978050,\n",
       " 3416454622906707,\n",
       " 5527939700884757,\n",
       " 8944394323791464,\n",
       " 14472334024676221,\n",
       " 23416728348467685,\n",
       " 37889062373143906,\n",
       " 61305790721611591,\n",
       " 99194853094755497,\n",
       " 160500643816367088,\n",
       " 259695496911122585,\n",
       " 420196140727489673,\n",
       " 679891637638612258,\n",
       " 1100087778366101931,\n",
       " 1779979416004714189,\n",
       " 2880067194370816120,\n",
       " 4660046610375530309,\n",
       " 7540113804746346429,\n",
       " 12200160415121876738,\n",
       " 19740274219868223167,\n",
       " 31940434634990099905,\n",
       " 51680708854858323072,\n",
       " 83621143489848422977,\n",
       " 135301852344706746049,\n",
       " 218922995834555169026,\n",
       " 354224848179261915075,\n",
       " 573147844013817084101]"
      ]
     },
     "execution_count": 2,
     "metadata": {},
     "output_type": "execute_result"
    }
   ],
   "source": [
    "import numpy as np\n",
    "a,b = 0,1\n",
    "c = [a,b]\n",
    "for i in range(100):\n",
    "    c.append(a+b)\n",
    "    a,b = b,a+b\n",
    "c"
   ]
  },
  {
   "cell_type": "code",
   "execution_count": null,
   "metadata": {},
   "outputs": [],
   "source": []
  }
 ],
 "metadata": {
  "kernelspec": {
   "display_name": "Python 3",
   "language": "python",
   "name": "python3"
  },
  "language_info": {
   "codemirror_mode": {
    "name": "ipython",
    "version": 3
   },
   "file_extension": ".py",
   "mimetype": "text/x-python",
   "name": "python",
   "nbconvert_exporter": "python",
   "pygments_lexer": "ipython3",
   "version": "3.6.5"
  }
 },
 "nbformat": 4,
 "nbformat_minor": 2
}
