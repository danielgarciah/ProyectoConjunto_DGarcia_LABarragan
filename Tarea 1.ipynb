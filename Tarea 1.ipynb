{
 "cells": [
  {
   "cell_type": "markdown",
   "metadata": {},
   "source": [
    "<img style=\"float: left; margin: 30px 15px 15px 15px;\" src=\"https://pngimage.net/wp-content/uploads/2018/06/logo-iteso-png-5.png\" width=\"300\" height=\"500\" /> \n",
    "    \n",
    "    \n",
    "### <font color='navy'> Simulación de procesos financieros. \n",
    "\n",
    "**Nombres:**\n",
    "    \n",
    "             García Hernández Daniel.\n",
    "             \n",
    "             Barragán Vázquez Lizbeth Alejandra.\n",
    "\n",
    "**Fecha:** 04 de febrero del 2020.\n",
    "\n",
    "**Expediente** : \n",
    "        \n",
    "                 715989\n",
    "                 714735\n",
    "**Profesor:** Oscar David Jaramillo Zuluaga.\n",
    "\n",
    "# Tarea 1: Clase 0,1 y 2"
   ]
  },
  {
   "cell_type": "markdown",
   "metadata": {},
   "source": [
    "## Enunciado de tarea (Transcibirlo)\n",
    "> Descripción de la tarea\n",
    "\n",
    "5. En este nuevo notebook el ESTUDIANTE 1, debe realizar una presentación describiendo sus expectativas del curso haciendo uso de la sintaxis Markdown. Además deberán reportar el resumen de alguno de estos dos artículos (dar click para ingresar al enlace)\n",
    "\n",
    "    • Documento economist 1\n",
    "    • Documento economist 2\n",
    "    \n",
    "    Tal presentación debe de tener: los diferentes tipos de Encabezados, código LATEX, donde deben de replicar el contenido de la Figura 5. Además debe de contar con imágenes y alguna tabla con información variada.\n",
    "    \n",
    "\n",
    "6. Posteriormente que el ESTUDIANTE 1 haya realizado su presentación en el paso 5, el ESTUDIANTE 2 deberá de añadir lo realizado por ESTUDIANTE 1, en el paso anterior y añadirlo al proyecto conjunto.\n",
    "\n",
    "8. Luego de culminado los pasos anteriores, el ESTUDIANTE 1, realizará un programa que imprima la serie de fibonacci para sus primeros 100 términos en un array de python, usando la rama “master” del repositorio creado. Por otro lado, el ESTUDIANTE 2, creando un “branch” llamado ejerProgra, generará un programa que muestre los nú- meros primos del 0-100. Luego de que el ESTUDIANTE 2 haya terminado su programa, debe de realizar un “pull request” al ESTUDIANTE 1, antes de hacer un “merge” de la rama ejerProgra a el proyecto principal (“master”). Luego de realizado estos pasos NO BORRAR LA RAMA CREADA."
   ]
  },
  {
   "cell_type": "markdown",
   "metadata": {},
   "source": [
    "# Repositorios de los alumnos\n",
    "\n",
    "\n",
    "https://github.com/labv98/ProyectoConjunto_DGarcia_LABarragan"
   ]
  }
 ],
 "metadata": {
  "kernelspec": {
   "display_name": "Python 3",
   "language": "python",
   "name": "python3"
  },
  "language_info": {
   "codemirror_mode": {
    "name": "ipython",
    "version": 3
   },
   "file_extension": ".py",
   "mimetype": "text/x-python",
   "name": "python",
   "nbconvert_exporter": "python",
   "pygments_lexer": "ipython3",
   "version": "3.6.5"
  }
 },
 "nbformat": 4,
 "nbformat_minor": 2
}
